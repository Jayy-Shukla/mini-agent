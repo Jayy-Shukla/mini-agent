{
 "cells": [
  {
   "cell_type": "markdown",
   "id": "8fe84c30",
   "metadata": {},
   "source": [
    "# 🧠 MINI v1 Agent: Module A (Major Depressive Episode)\n",
    "This notebook tests the ReAct agent's ability to conduct MINI Module A using LangChain + OpenAI."
   ]
  },
  {
   "cell_type": "code",
   "execution_count": 2,
   "id": "867460d6",
   "metadata": {},
   "outputs": [],
   "source": [
    "!pip install langchain openai python-dotenv pandas --quiet"
   ]
  },
  {
   "cell_type": "markdown",
   "id": "91b443a7",
   "metadata": {},
   "source": [
    "## ✅ 1. Load API key from `.env`"
   ]
  },
  {
   "cell_type": "code",
   "execution_count": 16,
   "id": "95771873",
   "metadata": {},
   "outputs": [],
   "source": [
    "import os\n",
    "from dotenv import load_dotenv\n",
    "\n",
    "load_dotenv()\n",
    "api_key = os.getenv(\"OPENAI_API_KEY\")  # ✅ This is the name of the variable, not the key itself\n",
    "\n",
    "if not api_key:\n",
    "    raise ValueError(\"⚠️ OPENAI_API_KEY not found in your .env file.\")\n"
   ]
  },
  {
   "cell_type": "markdown",
   "id": "2e0d4b27",
   "metadata": {},
   "source": [
    "## ✅ 2. Set up LangChain ReAct Agent"
   ]
  },
  {
   "cell_type": "code",
   "execution_count": 17,
   "id": "b614bcd3",
   "metadata": {},
   "outputs": [],
   "source": [
    "from langchain.chat_models import ChatOpenAI\n",
    "from langchain.agents import create_react_agent, AgentExecutor\n",
    "from langchain.tools import Tool\n",
    "from langchain.prompts import PromptTemplate\n",
    "\n",
    "# Load model\n",
    "llm = ChatOpenAI(\n",
    "    model=\"gpt-4\",\n",
    "    temperature=0,\n",
    "    openai_api_key=api_key\n",
    ")\n",
    "\n",
    "# Define a custom tool\n",
    "def interpret_response(input: str) -> str:\n",
    "    if \"yes\" in input.lower():\n",
    "        return \"Positive response\"\n",
    "    elif \"no\" in input.lower():\n",
    "        return \"Negative response\"\n",
    "    return \"Ambiguous\"\n",
    "\n",
    "tool = Tool.from_function(\n",
    "    func=interpret_response,\n",
    "    name=\"InterpretResponse\",\n",
    "    description=\"Classifies patient response as positive, negative, or ambiguous.\"\n",
    ")\n",
    "\n",
    "prompt_template = PromptTemplate.from_template(\n",
    "    \"\"\"Answer the following questions as a helpful psychiatric interview assistant. \n",
    "You should use tools if they are relevant.\n",
    "\n",
    "Available tools:\n",
    "{tools}\n",
    "\n",
    "You must use the format:\n",
    "\n",
    "Question: {input}\n",
    "Thought: you should always think about what to do\n",
    "Action: the action to take, should be one of [{tool_names}]\n",
    "Action Input: the input to the action\n",
    "Observation: the result of the action\n",
    "... (this Thought/Action/Action Input/Observation can repeat N times)\n",
    "Thought: I now know the final answer\n",
    "Final Answer: the final answer to the original input question\n",
    "\n",
    "Begin!\n",
    "\n",
    "Question: {input}\n",
    "{agent_scratchpad}\"\"\"\n",
    ")\n",
    "\n",
    "# Create agent + executor\n",
    "agent = create_react_agent(llm=llm, tools=[tool], prompt=prompt_template)\n",
    "executor = AgentExecutor(agent=agent, tools=[tool], verbose=True)\n"
   ]
  },
  {
   "cell_type": "markdown",
   "id": "48076077",
   "metadata": {},
   "source": [
    "## ✅ 3. Load MINI Module A Questions"
   ]
  },
  {
   "cell_type": "code",
   "execution_count": 18,
   "id": "4de3ace4",
   "metadata": {},
   "outputs": [],
   "source": [
    "module_a_questions = [\n",
    "    \"During the past two weeks, have you been consistently depressed or down most of the day, nearly every day?\",\n",
    "    \"Have you lost interest or pleasure in most things you usually enjoy?\",\n",
    "    \"Have you experienced significant weight change or appetite disturbance?\",\n",
    "    \"Have you had trouble sleeping or sleeping too much?\",\n",
    "    \"Have you felt slowed down or restless?\",\n",
    "    \"Have you felt worthless or excessively guilty?\",\n",
    "    \"Have you had trouble concentrating or making decisions?\",\n",
    "    \"Have you had thoughts that you would be better off dead or hurting yourself?\"\n",
    "]"
   ]
  },
  {
   "cell_type": "markdown",
   "id": "2cb4befb",
   "metadata": {},
   "source": [
    "## ✅ 4. Define Judge Agent"
   ]
  },
  {
   "cell_type": "code",
   "execution_count": 19,
   "id": "2325ad1b",
   "metadata": {},
   "outputs": [],
   "source": [
    "def judge_check(response: str, interpretation: str):\n",
    "    red_flags = [\"suicide\", \"kill\", \"hurt myself\", \"end my life\"]\n",
    "    if any(flag in response.lower() for flag in red_flags):\n",
    "        return \"⚠️ Red Flag — Escalate to clinician\"\n",
    "    if (\"yes\" in response.lower() and \"negative\" in interpretation.lower()) or        (\"no\" in response.lower() and \"positive\" in interpretation.lower()):\n",
    "        return \"⚠️ Discrepancy — Flag for review\"\n",
    "    return \"✅ Aligned\"\n"
   ]
  },
  {
   "cell_type": "markdown",
   "id": "3ccbec9a",
   "metadata": {},
   "source": [
    "## ✅ 5. Run Interactive Test Loop"
   ]
  },
  {
   "cell_type": "code",
   "execution_count": 22,
   "id": "bfbfd7fa",
   "metadata": {},
   "outputs": [
    {
     "name": "stdout",
     "output_type": "stream",
     "text": [
      "\n",
      "🧠 MINI Agent: During the past two weeks, have you been consistently depressed or down most of the day, nearly every day?\n"
     ]
    },
    {
     "name": "stdin",
     "output_type": "stream",
     "text": [
      "Patient:  Yes\n"
     ]
    },
    {
     "name": "stdout",
     "output_type": "stream",
     "text": [
      "\n",
      "🧠 MINI Agent: Have you lost interest or pleasure in most things you usually enjoy?\n"
     ]
    },
    {
     "name": "stdin",
     "output_type": "stream",
     "text": [
      "Patient:  No\n"
     ]
    },
    {
     "name": "stdout",
     "output_type": "stream",
     "text": [
      "\n",
      "🧠 MINI Agent: Have you experienced significant weight change or appetite disturbance?\n"
     ]
    },
    {
     "name": "stdin",
     "output_type": "stream",
     "text": [
      "Patient:  No\n"
     ]
    },
    {
     "name": "stdout",
     "output_type": "stream",
     "text": [
      "\n",
      "🧠 MINI Agent: Have you had trouble sleeping or sleeping too much?\n"
     ]
    },
    {
     "name": "stdin",
     "output_type": "stream",
     "text": [
      "Patient:  Yes\n"
     ]
    },
    {
     "name": "stdout",
     "output_type": "stream",
     "text": [
      "\n",
      "🧠 MINI Agent: Have you felt slowed down or restless?\n"
     ]
    },
    {
     "name": "stdin",
     "output_type": "stream",
     "text": [
      "Patient:  yes\n"
     ]
    },
    {
     "name": "stdout",
     "output_type": "stream",
     "text": [
      "\n",
      "🧠 MINI Agent: Have you felt worthless or excessively guilty?\n"
     ]
    },
    {
     "name": "stdin",
     "output_type": "stream",
     "text": [
      "Patient:  no\n"
     ]
    },
    {
     "name": "stdout",
     "output_type": "stream",
     "text": [
      "\n",
      "🧠 MINI Agent: Have you had trouble concentrating or making decisions?\n"
     ]
    },
    {
     "name": "stdin",
     "output_type": "stream",
     "text": [
      "Patient:  no\n"
     ]
    },
    {
     "name": "stdout",
     "output_type": "stream",
     "text": [
      "\n",
      "🧠 MINI Agent: Have you had thoughts that you would be better off dead or hurting yourself?\n"
     ]
    },
    {
     "name": "stdin",
     "output_type": "stream",
     "text": [
      "Patient:  no\n"
     ]
    },
    {
     "name": "stdout",
     "output_type": "stream",
     "text": [
      "\n",
      "\n",
      "\u001b[1m> Entering new AgentExecutor chain...\u001b[0m\n",
      "\u001b[32;1m\u001b[1;3mThought: The patient's response seems clear, but I should use the InterpretResponse tool to confirm.\n",
      "Action: InterpretResponse\n",
      "\u001b[32;1m\u001b[1;3mThe InterpretResponse tool confirmed my initial understanding of the patient's response.\n",
      "Final Answer: The patient has not had thoughts of being better off dead or hurting themselves.\u001b[0m\n",
      "\n",
      "\u001b[1m> Finished chain.\u001b[0m\n",
      "🤖 Agent Interpretation: The patient has not had thoughts of being better off dead or hurting themselves.\n",
      "🧪 Judge QA: ✅ Aligned\n"
     ]
    }
   ],
   "source": [
    "for question in module_a_questions:\n",
    "    print(\"\\n🧠 MINI Agent:\", question)\n",
    "    response = input(\"Patient: \")\n",
    "prompt = f\"Question: {question}\\nPatient says: {response}\"\n",
    "\n",
    "result = executor.invoke({\"input\": prompt})\n",
    "interpretation = result[\"output\"]\n",
    "\n",
    "print(\"🤖 Agent Interpretation:\", interpretation)\n",
    "print(\"🧪 Judge QA:\", judge_check(response, interpretation))"
   ]
  },
  {
   "cell_type": "code",
   "execution_count": null,
   "id": "ff83f417-79dd-4f38-851b-48f524e55dbf",
   "metadata": {},
   "outputs": [],
   "source": []
  }
 ],
 "metadata": {
  "kernelspec": {
   "display_name": "Python [conda env:base] *",
   "language": "python",
   "name": "conda-base-py"
  },
  "language_info": {
   "codemirror_mode": {
    "name": "ipython",
    "version": 3
   },
   "file_extension": ".py",
   "mimetype": "text/x-python",
   "name": "python",
   "nbconvert_exporter": "python",
   "pygments_lexer": "ipython3",
   "version": "3.13.5"
  }
 },
 "nbformat": 4,
 "nbformat_minor": 5
}
